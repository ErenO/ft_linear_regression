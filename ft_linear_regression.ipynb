{
 "cells": [
  {
   "cell_type": "code",
   "execution_count": 1,
   "metadata": {},
   "outputs": [],
   "source": [
    "import os\n",
    "import sys\n",
    "import numpy as np"
   ]
  },
  {
   "cell_type": "code",
   "execution_count": 20,
   "metadata": {},
   "outputs": [
    {
     "name": "stdout",
     "output_type": "stream",
     "text": [
      "['km', 'price\\n']\n",
      "['240000', '3650\\n']\n",
      "['139800', '3800\\n']\n",
      "['150500', '4400\\n']\n",
      "['185530', '4450\\n']\n",
      "['176000', '5250\\n']\n",
      "['114800', '5350\\n']\n",
      "['166800', '5800\\n']\n",
      "['89000', '5990\\n']\n",
      "['144500', '5999\\n']\n",
      "['84000', '6200\\n']\n",
      "['82029', '6390\\n']\n",
      "['63060', '6390\\n']\n",
      "['74000', '6600\\n']\n",
      "['97500', '6800\\n']\n",
      "['67000', '6800\\n']\n",
      "['76025', '6900\\n']\n",
      "['48235', '6900\\n']\n",
      "['93000', '6990\\n']\n",
      "['60949', '7490\\n']\n",
      "['65674', '7555\\n']\n",
      "['54000', '7990\\n']\n",
      "['68500', '7990\\n']\n",
      "['22899', '7990\\n']\n",
      "['61789', '8290\\n']\n"
     ]
    }
   ],
   "source": [
    "data = {}\n",
    "data['km'] = []\n",
    "data['price'] = []\n",
    "for line in open('data.csv'):\n",
    "    print (line.split(','))\n",
    "    try:\n",
    "        data['km'].append(int(line.split(',')[0]))\n",
    "        data['price'].append(int(line.split(',')[1].replace('\\n', '')))\n",
    "    except:\n",
    "        pass"
   ]
  },
  {
   "cell_type": "code",
   "execution_count": 22,
   "metadata": {},
   "outputs": [],
   "source": [
    "import matplotlib.pyplot as plt"
   ]
  },
  {
   "cell_type": "code",
   "execution_count": 49,
   "metadata": {},
   "outputs": [],
   "source": [
    "def calc_coef(X, y):\n",
    "    n = np.size(X)\n",
    "    \n",
    "    x_mean, y_mean = np.mean(X), np.mean(y)\n",
    "    \n",
    "    SS_xy = 0\n",
    "    SS_xx = 0\n",
    "    for i in range(n):\n",
    "        SS_xy += (X[i] - x_mean) * (y[i] - y_mean)\n",
    "        SS_xx += (X[i] - x_mean) ** 2\n",
    "    \n",
    "    print (SS_xy, SS_xx)\n",
    "    b_1 = SS_xy / SS_xx\n",
    "    b_0 = y_mean - b_1 * x_mean\n",
    "    return (b_0, b_1)"
   ]
  },
  {
   "cell_type": "code",
   "execution_count": 54,
   "metadata": {},
   "outputs": [],
   "source": [
    "def plot_line(x, y, b):\n",
    "    plt.scatter(x, y, color='m', marker=\"o\", s=30)\n",
    "    \n",
    "    y_pred = b[0] + b[1] * x\n",
    "    \n",
    "    plt.plot(x, y_pred, color='g')\n",
    "    \n",
    "    plt.xlabel('Price')\n",
    "    plt.ylabel('Km')\n",
    "    \n",
    "    plt.show()"
   ]
  },
  {
   "cell_type": "code",
   "execution_count": 55,
   "metadata": {},
   "outputs": [
    {
     "name": "stdout",
     "output_type": "stream",
     "text": [
      "-1368771004.9999998 63815251452.5\n",
      "estimated coefficients:\n",
      "b_0 = 8499.599649933216\n",
      "b_1 = -0.0214489635917023\n"
     ]
    },
    {
     "data": {
      "image/png": "[encoded data removed]",
      "text/plain": [
       "<Figure size 432x288 with 1 Axes>"
      ]
     },
     "metadata": {
      "needs_background": "light"
     },
     "output_type": "display_data"
    }
   ],
   "source": [
    "x = np.array(data['km'])\n",
    "y = np.array(data['price'])\n",
    "\n",
    "b = calc_coef(x, y)\n",
    "print ('estimated coefficients:\\nb_0 = {}\\nb_1 = {}'.format(b[0], b[1]))\n",
    "plot_line(x, y, b)"
   ]
  },
  {
   "cell_type": "code",
   "execution_count": null,
   "metadata": {},
   "outputs": [],
   "source": []
  }
 ],
 "metadata": {
  "kernelspec": {
   "display_name": "Python 3",
   "language": "python",
   "name": "python3"
  },
  "language_info": {
   "codemirror_mode": {
    "name": "ipython",
    "version": 3
   },
   "file_extension": ".py",
   "mimetype": "text/x-python",
   "name": "python",
   "nbconvert_exporter": "python",
   "pygments_lexer": "ipython3",
   "version": "3.6.6"
  }
 },
 "nbformat": 4,
 "nbformat_minor": 2
}
